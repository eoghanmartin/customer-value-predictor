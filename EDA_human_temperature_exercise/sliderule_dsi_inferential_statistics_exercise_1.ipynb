{
 "cells": [
  {
   "cell_type": "markdown",
   "metadata": {},
   "source": [
    "# What is the True Normal Human Body Temperature? \n",
    "\n",
    "#### Background\n",
    "\n",
    "The mean normal body temperature was held to be 37$^{\\circ}$C or 98.6$^{\\circ}$F for more than 120 years since it was first conceptualized and reported by Carl Wunderlich in a famous 1868 book. But, is this value statistically correct?"
   ]
  },
  {
   "cell_type": "markdown",
   "metadata": {},
   "source": [
    "<h3>Exercises</h3>\n",
    "\n",
    "<p>In this exercise, you will analyze a dataset of human body temperatures and employ the concepts of hypothesis testing, confidence intervals, and statistical significance.</p>\n",
    "\n",
    "<p>Answer the following questions <b>in this notebook below and submit to your Github account</b>.</p> \n",
    "\n",
    "<ol>\n",
    "<li>  Is the distribution of body temperatures normal? \n",
    "    <ul>\n",
    "    <li> Although this is not a requirement for the Central Limit Theorem to hold (read the introduction on Wikipedia's page about the CLT carefully: https://en.wikipedia.org/wiki/Central_limit_theorem), it gives us some peace of mind that the population may also be normally distributed if we assume that this sample is representative of the population.\n",
    "    <li> Think about the way you're going to check for the normality of the distribution. Graphical methods are usually used first, but there are also other ways: https://en.wikipedia.org/wiki/Normality_test\n",
    "    </ul>\n",
    "<li>  Is the sample size large? Are the observations independent?\n",
    "    <ul>\n",
    "    <li> Remember that this is a condition for the Central Limit Theorem, and hence the statistical tests we are using, to apply.\n",
    "    </ul>\n",
    "<li>  Is the true population mean really 98.6 degrees F?\n",
    "    <ul>\n",
    "    <li> First, try a bootstrap hypothesis test.\n",
    "    <li> Now, let's try frequentist statistical testing. Would you use a one-sample or two-sample test? Why?\n",
    "    <li> In this situation, is it appropriate to use the $t$ or $z$ statistic? \n",
    "    <li> Now try using the other test. How is the result be different? Why?\n",
    "    </ul>\n",
    "<li>  Draw a small sample of size 10 from the data and repeat both frequentist tests. \n",
    "    <ul>\n",
    "    <li> Which one is the correct one to use? \n",
    "    <li> What do you notice? What does this tell you about the difference in application of the $t$ and $z$ statistic?\n",
    "    </ul>\n",
    "<li>  At what temperature should we consider someone's temperature to be \"abnormal\"?\n",
    "    <ul>\n",
    "    <li> As in the previous example, try calculating everything using the boostrap approach, as well as the frequentist approach.\n",
    "    <li> Start by computing the margin of error and confidence interval. When calculating the confidence interval, keep in mind that you should use the appropriate formula for one draw, and not N draws.\n",
    "    </ul>\n",
    "<li>  Is there a significant difference between males and females in normal temperature?\n",
    "    <ul>\n",
    "    <li> What testing approach did you use and why?\n",
    "    <li> Write a story with your conclusion in the context of the original problem.\n",
    "    </ul>\n",
    "</ol>\n",
    "\n",
    "#### Resources\n",
    "\n",
    "+ Information and data sources: http://www.amstat.org/publications/jse/datasets/normtemp.txt, http://www.amstat.org/publications/jse/jse_data_archive.htm\n",
    "+ Markdown syntax: http://nestacms.com/docs/creating-content/markdown-cheat-sheet\n",
    "\n",
    "****"
   ]
  },
  {
   "cell_type": "code",
   "execution_count": 2,
   "metadata": {},
   "outputs": [
    {
     "data": {
      "text/html": [
       "<div>\n",
       "<style scoped>\n",
       "    .dataframe tbody tr th:only-of-type {\n",
       "        vertical-align: middle;\n",
       "    }\n",
       "\n",
       "    .dataframe tbody tr th {\n",
       "        vertical-align: top;\n",
       "    }\n",
       "\n",
       "    .dataframe thead th {\n",
       "        text-align: right;\n",
       "    }\n",
       "</style>\n",
       "<table border=\"1\" class=\"dataframe\">\n",
       "  <thead>\n",
       "    <tr style=\"text-align: right;\">\n",
       "      <th></th>\n",
       "      <th>temperature</th>\n",
       "      <th>gender</th>\n",
       "      <th>heart_rate</th>\n",
       "    </tr>\n",
       "  </thead>\n",
       "  <tbody>\n",
       "    <tr>\n",
       "      <th>0</th>\n",
       "      <td>99.3</td>\n",
       "      <td>F</td>\n",
       "      <td>68.0</td>\n",
       "    </tr>\n",
       "    <tr>\n",
       "      <th>1</th>\n",
       "      <td>98.4</td>\n",
       "      <td>F</td>\n",
       "      <td>81.0</td>\n",
       "    </tr>\n",
       "    <tr>\n",
       "      <th>2</th>\n",
       "      <td>97.8</td>\n",
       "      <td>M</td>\n",
       "      <td>73.0</td>\n",
       "    </tr>\n",
       "    <tr>\n",
       "      <th>3</th>\n",
       "      <td>99.2</td>\n",
       "      <td>F</td>\n",
       "      <td>66.0</td>\n",
       "    </tr>\n",
       "    <tr>\n",
       "      <th>4</th>\n",
       "      <td>98.0</td>\n",
       "      <td>F</td>\n",
       "      <td>73.0</td>\n",
       "    </tr>\n",
       "  </tbody>\n",
       "</table>\n",
       "</div>"
      ],
      "text/plain": [
       "   temperature gender  heart_rate\n",
       "0         99.3      F        68.0\n",
       "1         98.4      F        81.0\n",
       "2         97.8      M        73.0\n",
       "3         99.2      F        66.0\n",
       "4         98.0      F        73.0"
      ]
     },
     "execution_count": 2,
     "metadata": {},
     "output_type": "execute_result"
    }
   ],
   "source": [
    "import pandas as pd\n",
    "import numpy as np\n",
    "import matplotlib.pyplot as plt\n",
    "from scipy.stats import normaltest\n",
    "from scipy.stats import pearsonr\n",
    "from scipy.stats import shapiro\n",
    "from scipy.stats import norm\n",
    "\n",
    "df = pd.read_csv('data/human_body_temperature.csv')\n",
    "df.head()"
   ]
  },
  {
   "cell_type": "markdown",
   "metadata": {},
   "source": [
    "___________________________________________________________________________________________________________________\n",
    "## Question 1"
   ]
  },
  {
   "cell_type": "code",
   "execution_count": 6,
   "metadata": {},
   "outputs": [
    {
     "data": {
      "image/png": "[encoded data removed]",
      "text/plain": [
       "<Figure size 432x288 with 1 Axes>"
      ]
     },
     "metadata": {
      "needs_background": "light"
     },
     "output_type": "display_data"
    }
   ],
   "source": [
    "plt.hist(df['temperature'], density=True, bins=10)\n",
    "plt.xlabel('Temperature (F)');\n",
    "plt.ylabel('Probability Density');"
   ]
  },
  {
   "cell_type": "code",
   "execution_count": 7,
   "metadata": {},
   "outputs": [
    {
     "name": "stdout",
     "output_type": "stream",
     "text": [
      "mean=98.24923076923078 stdv=0.7331831580389454\n"
     ]
    }
   ],
   "source": [
    "print('mean={0} stdv={1}'.format(df['temperature'].mean(), df['temperature'].std()))"
   ]
  },
  {
   "cell_type": "code",
   "execution_count": 8,
   "metadata": {},
   "outputs": [
    {
     "name": "stdout",
     "output_type": "stream",
     "text": [
      "Statistics=0.9865770936012268 p=0.233174666762352\n",
      "Fail to reject the null hypothesis (the temperatures are normally distributed)\n"
     ]
    }
   ],
   "source": [
    "stat, p = shapiro(df['temperature'])\n",
    "print('Statistics={0} p={1}'.format(stat, p))\n",
    "# null hypothesis = the temperatures are normally distibuted\n",
    "alpha = 0.05\n",
    "if p > alpha:\n",
    "\tprint('Fail to reject the null hypothesis (the temperatures are normally distributed)')\n",
    "else:\n",
    "\tprint('Reject the null hypothesis (the temperatures are not normally distributed)')"
   ]
  },
  {
   "cell_type": "code",
   "execution_count": 9,
   "metadata": {},
   "outputs": [
    {
     "name": "stdout",
     "output_type": "stream",
     "text": [
      "Statistics=2.703801433319203 p=0.2587479863488254\n",
      "Fail to reject the null hypothesis (the temperatures are normally distributed)\n"
     ]
    }
   ],
   "source": [
    "stat, p = normaltest(df['temperature'])\n",
    "print('Statistics={0} p={1}'.format(stat, p))\n",
    "# null hypothesis = the temperatures are normally distibuted\n",
    "alpha = 0.05\n",
    "if p > alpha:\n",
    "\tprint('Fail to reject the null hypothesis (the temperatures are normally distributed)')\n",
    "else:\n",
    "\tprint('Reject the null hypothesis (the temperatures are not normally distributed)')"
   ]
  },
  {
   "cell_type": "markdown",
   "metadata": {},
   "source": [
    "### Question: Is the distribution of body temperatures normal?\n",
    "- By visualizing the data using a histogram it can be observed that the data trends towards a normal distibution.\n",
    "- Using a Shapiro-Wilk Test to evaluate the normality of the temperature data also allows us to accept the null hypothesis and conclude that the data is normally distributed.\n",
    "- Finally, the `normaltest` function was used from the scipy library to one more, prove that the null hypothesis can be accepted.\n",
    "\n",
    "**Yes, the body temperatures appear to be normally distributed**\n",
    "___________________________________________________________________________________________________________________\n",
    "## Question 2"
   ]
  },
  {
   "cell_type": "code",
   "execution_count": 10,
   "metadata": {},
   "outputs": [
    {
     "data": {
      "text/html": [
       "<div>\n",
       "<style scoped>\n",
       "    .dataframe tbody tr th:only-of-type {\n",
       "        vertical-align: middle;\n",
       "    }\n",
       "\n",
       "    .dataframe tbody tr th {\n",
       "        vertical-align: top;\n",
       "    }\n",
       "\n",
       "    .dataframe thead th {\n",
       "        text-align: right;\n",
       "    }\n",
       "</style>\n",
       "<table border=\"1\" class=\"dataframe\">\n",
       "  <thead>\n",
       "    <tr style=\"text-align: right;\">\n",
       "      <th></th>\n",
       "      <th>temperature</th>\n",
       "      <th>heart_rate</th>\n",
       "    </tr>\n",
       "  </thead>\n",
       "  <tbody>\n",
       "    <tr>\n",
       "      <th>count</th>\n",
       "      <td>130.000000</td>\n",
       "      <td>130.000000</td>\n",
       "    </tr>\n",
       "    <tr>\n",
       "      <th>mean</th>\n",
       "      <td>98.249231</td>\n",
       "      <td>73.761538</td>\n",
       "    </tr>\n",
       "    <tr>\n",
       "      <th>std</th>\n",
       "      <td>0.733183</td>\n",
       "      <td>7.062077</td>\n",
       "    </tr>\n",
       "    <tr>\n",
       "      <th>min</th>\n",
       "      <td>96.300000</td>\n",
       "      <td>57.000000</td>\n",
       "    </tr>\n",
       "    <tr>\n",
       "      <th>25%</th>\n",
       "      <td>97.800000</td>\n",
       "      <td>69.000000</td>\n",
       "    </tr>\n",
       "    <tr>\n",
       "      <th>50%</th>\n",
       "      <td>98.300000</td>\n",
       "      <td>74.000000</td>\n",
       "    </tr>\n",
       "    <tr>\n",
       "      <th>75%</th>\n",
       "      <td>98.700000</td>\n",
       "      <td>79.000000</td>\n",
       "    </tr>\n",
       "    <tr>\n",
       "      <th>max</th>\n",
       "      <td>100.800000</td>\n",
       "      <td>89.000000</td>\n",
       "    </tr>\n",
       "  </tbody>\n",
       "</table>\n",
       "</div>"
      ],
      "text/plain": [
       "       temperature  heart_rate\n",
       "count   130.000000  130.000000\n",
       "mean     98.249231   73.761538\n",
       "std       0.733183    7.062077\n",
       "min      96.300000   57.000000\n",
       "25%      97.800000   69.000000\n",
       "50%      98.300000   74.000000\n",
       "75%      98.700000   79.000000\n",
       "max     100.800000   89.000000"
      ]
     },
     "execution_count": 10,
     "metadata": {},
     "output_type": "execute_result"
    }
   ],
   "source": [
    "df.describe()"
   ]
  },
  {
   "cell_type": "code",
   "execution_count": 11,
   "metadata": {},
   "outputs": [
    {
     "name": "stdout",
     "output_type": "stream",
     "text": [
      "Correlation: 0.2536564027207642, Pearson's R: 0.003591489250708233\n"
     ]
    }
   ],
   "source": [
    "temperature = df.temperature\n",
    "heart_rate = df.heart_rate\n",
    "corr, r = pearsonr(temperature, heart_rate)\n",
    "print('Correlation: {corr}, Pearson\\'s R: {r}'.format(corr=corr, r=r))"
   ]
  },
  {
   "cell_type": "markdown",
   "metadata": {},
   "source": [
    "### Question: Is the sample size large? Are the observations independent?\n",
    "- There are 130 sample value in the dataset for temperature and heart rate. This is not a large sample size.\n",
    "- According to Pearson's R coefficient the temerature and heart rate observations are not correlated. The R value is very close to 0.\n",
    "\n",
    "**The sample size is small and the observations are independent**\n",
    "___________________________________________________________________________________________________________________\n",
    "## Question 3"
   ]
  },
  {
   "cell_type": "markdown",
   "metadata": {},
   "source": [
    "***Null Hypothesis (H0):*** The true population mean is 98.6 degrees F"
   ]
  },
  {
   "cell_type": "code",
   "execution_count": 12,
   "metadata": {},
   "outputs": [
    {
     "data": {
      "text/plain": [
       "98.24923076923078"
      ]
     },
     "execution_count": 12,
     "metadata": {},
     "output_type": "execute_result"
    }
   ],
   "source": [
    "np.mean(df['temperature'])"
   ]
  },
  {
   "cell_type": "markdown",
   "metadata": {},
   "source": [
    "### Graph Bootstrap Samples and ECDF of Data"
   ]
  },
  {
   "cell_type": "code",
   "execution_count": 13,
   "metadata": {},
   "outputs": [],
   "source": [
    "def ecdf(data):\n",
    "    \"\"\"Compute ECDF for a one-dimensional array of measurements.\"\"\"\n",
    "    # Number of data points: n\n",
    "    n = len(data)\n",
    "\n",
    "    # x-data for the ECDF: x\n",
    "    x = np.sort(data)\n",
    "\n",
    "    # y-data for the ECDF: y\n",
    "    y = np.arange(1, n+1) / n\n",
    "\n",
    "    return x, y"
   ]
  },
  {
   "cell_type": "code",
   "execution_count": 14,
   "metadata": {},
   "outputs": [],
   "source": [
    "def draw_bs_samples(data, size=1):\n",
    "    \"\"\"Draw bootstrap samples\"\"\"\n",
    "    for _ in range(size):\n",
    "        # Generate bootstrap sample: bs_sample\n",
    "        bs_sample = np.random.choice(data, size=len(data))\n",
    "        # Compute and plot ECDF from bootstrap sample\n",
    "        x, y = ecdf(bs_sample)\n",
    "        _ = plt.plot(x, y, marker='.', linestyle='none',\n",
    "                 color='gray', alpha=0.1)\n",
    "        _ = plt.xlabel('Body Temperature (F)')\n",
    "        _ = plt.ylabel('BS ECDF')"
   ]
  },
  {
   "cell_type": "code",
   "execution_count": 15,
   "metadata": {},
   "outputs": [
    {
     "data": {
      "image/png": "[encoded data removed]",
      "text/plain": [
       "<Figure size 432x288 with 2 Axes>"
      ]
     },
     "metadata": {
      "needs_background": "light"
     },
     "output_type": "display_data"
    }
   ],
   "source": [
    "plt.subplot(1, 2, 1)\n",
    "\n",
    "# Compute and plot ECDF from original data\n",
    "x, y = ecdf(df['temperature'])\n",
    "_ = plt.plot(x, y, marker='.')\n",
    "\n",
    "# Make margins and label axes\n",
    "_ = plt.xlabel('Body Temperature (F)')\n",
    "_ = plt.ylabel('ECDF')\n",
    "\n",
    "plt.subplot(1, 2, 2)\n",
    "\n",
    "draw_bs_samples(df['temperature'], 500)\n",
    "\n",
    "# Show the plots\n",
    "plt.tight_layout()\n",
    "plt.show()"
   ]
  },
  {
   "cell_type": "code",
   "execution_count": 16,
   "metadata": {},
   "outputs": [],
   "source": [
    "def bootstrap_replicate_1d(data, func):\n",
    "    return func(np.random.choice(data, size=len(data)))"
   ]
  },
  {
   "cell_type": "code",
   "execution_count": 17,
   "metadata": {},
   "outputs": [],
   "source": [
    "def generate_bs_samples(data, func, size=1):\n",
    "    \"\"\"Generate bootstrap replicates.\"\"\"\n",
    "\n",
    "    # Initialize array of replicates: bs_replicates\n",
    "    bs_replicates = np.empty(size)\n",
    "\n",
    "    # Generate replicates\n",
    "    for i in range(size):\n",
    "        bs_replicates[i] = bootstrap_replicate_1d(data, func)\n",
    "\n",
    "    return bs_replicates"
   ]
  },
  {
   "cell_type": "markdown",
   "metadata": {},
   "source": [
    "### T-Test"
   ]
  },
  {
   "cell_type": "code",
   "execution_count": 18,
   "metadata": {},
   "outputs": [
    {
     "name": "stdout",
     "output_type": "stream",
     "text": [
      "P-value: 0.0\n",
      "The true population mean is not 98.6 degrees F. Reject null hypothesis\n"
     ]
    }
   ],
   "source": [
    "# Make an array of translated temperatures\n",
    "translated_temperature = df['temperature'] - np.mean(df['temperature']) + 98.6\n",
    "\n",
    "replicate_data = generate_bs_samples(translated_temperature, np.mean, 500)\n",
    "\n",
    "# Compute fraction of replicates that are less than the observed tempertures\n",
    "p_value = np.sum(replicate_data <= np.mean(df['temperature'])) / 500\n",
    "\n",
    "print('P-value: {p_value}'.format(p_value=p_value))\n",
    "if (p_value > 0.05):\n",
    "    print('The true population mean is 98.6 degrees F. Fail to reject null hypothesis')\n",
    "else:\n",
    "    print('The true population mean is not 98.6 degrees F. Reject null hypothesis' )"
   ]
  },
  {
   "cell_type": "markdown",
   "metadata": {},
   "source": [
    "### Z-Test"
   ]
  },
  {
   "cell_type": "code",
   "execution_count": 19,
   "metadata": {},
   "outputs": [
    {
     "name": "stdout",
     "output_type": "stream",
     "text": [
      "Poplation standard deviation: 0.06405661469519336\n",
      "Z-score: 5.475925202078116\n",
      "P-value: 4.3523151658821886e-08\n",
      "The true population mean is not 98.6 degrees F. Reject null hypothesis\n"
     ]
    }
   ],
   "source": [
    "# Population standard deviation\n",
    "pop_std = np.std(df['temperature']) / np.sqrt(len(df['temperature']))\n",
    "print('Poplation standard deviation: {pop_std}'.format(pop_std=pop_std))\n",
    "\n",
    "# Z-score with X as 98.6\n",
    "z_score = (98.6 - np.mean(df['temperature'])) / pop_std\n",
    "print('Z-score: {z_score}'.format(z_score=z_score))\n",
    "\n",
    "# P-value with H0 = pop mean = 98.6 degrees F\n",
    "p_value = norm.sf(abs(z_score))*2\n",
    "print('P-value: {p_value}'.format(p_value=p_value))\n",
    "if (p_value > 0.05):\n",
    "    print('The true population mean is 98.6 degrees F. Fail to reject null hypothesis')\n",
    "else:\n",
    "    print('The true population mean is not 98.6 degrees F. Reject null hypothesis')"
   ]
  },
  {
   "cell_type": "markdown",
   "metadata": {},
   "source": [
    "### Question: Is the true population mean really 98.6 degrees F?\n",
    "- The first bootstrap hypothesis test failed to reject the null hypothesis getting an average temperature of 98.24 F. After using frequentist statistical testing and generating bootrap replicates of the data, the null hypothsis is rejected.\n",
    "- Because we're comparing a dataset with a value, a permutation test is not applicable. Instead we shift the test data such that the mean matches the mean of the null hypothesis and run a t-test.\n",
    "- Z-test was not done because the standard deviation of the true population is not known and the sample size is small.\n",
    "\n",
    "**According to the t-test and z-test, no.**\n",
    "___________________________________________________________________________________________________________________\n",
    "## Question 4"
   ]
  },
  {
   "cell_type": "code",
   "execution_count": 20,
   "metadata": {},
   "outputs": [
    {
     "data": {
      "text/html": [
       "<div>\n",
       "<style scoped>\n",
       "    .dataframe tbody tr th:only-of-type {\n",
       "        vertical-align: middle;\n",
       "    }\n",
       "\n",
       "    .dataframe tbody tr th {\n",
       "        vertical-align: top;\n",
       "    }\n",
       "\n",
       "    .dataframe thead th {\n",
       "        text-align: right;\n",
       "    }\n",
       "</style>\n",
       "<table border=\"1\" class=\"dataframe\">\n",
       "  <thead>\n",
       "    <tr style=\"text-align: right;\">\n",
       "      <th></th>\n",
       "      <th>temperature</th>\n",
       "      <th>gender</th>\n",
       "      <th>heart_rate</th>\n",
       "    </tr>\n",
       "  </thead>\n",
       "  <tbody>\n",
       "    <tr>\n",
       "      <th>121</th>\n",
       "      <td>97.9</td>\n",
       "      <td>F</td>\n",
       "      <td>68.0</td>\n",
       "    </tr>\n",
       "    <tr>\n",
       "      <th>20</th>\n",
       "      <td>98.3</td>\n",
       "      <td>F</td>\n",
       "      <td>78.0</td>\n",
       "    </tr>\n",
       "    <tr>\n",
       "      <th>40</th>\n",
       "      <td>98.4</td>\n",
       "      <td>F</td>\n",
       "      <td>79.0</td>\n",
       "    </tr>\n",
       "    <tr>\n",
       "      <th>90</th>\n",
       "      <td>97.8</td>\n",
       "      <td>M</td>\n",
       "      <td>74.0</td>\n",
       "    </tr>\n",
       "    <tr>\n",
       "      <th>79</th>\n",
       "      <td>97.6</td>\n",
       "      <td>M</td>\n",
       "      <td>74.0</td>\n",
       "    </tr>\n",
       "  </tbody>\n",
       "</table>\n",
       "</div>"
      ],
      "text/plain": [
       "     temperature gender  heart_rate\n",
       "121         97.9      F        68.0\n",
       "20          98.3      F        78.0\n",
       "40          98.4      F        79.0\n",
       "90          97.8      M        74.0\n",
       "79          97.6      M        74.0"
      ]
     },
     "execution_count": 20,
     "metadata": {},
     "output_type": "execute_result"
    }
   ],
   "source": [
    "sample_df = df.sample(n=10)\n",
    "sample_df.head()"
   ]
  },
  {
   "cell_type": "markdown",
   "metadata": {},
   "source": [
    "### T-Test of Sample of Data"
   ]
  },
  {
   "cell_type": "code",
   "execution_count": 21,
   "metadata": {},
   "outputs": [
    {
     "name": "stdout",
     "output_type": "stream",
     "text": [
      "P-value: 0.0\n",
      "The true population mean is not 98.6 degrees F. Reject null hypothesis\n"
     ]
    }
   ],
   "source": [
    "# Make an array of translated temperatures\n",
    "sample_translated_temperature = sample_df['temperature'] - np.mean(sample_df['temperature']) + 98.6\n",
    "\n",
    "sample_replicate_data = generate_bs_samples(sample_translated_temperature, np.mean, 500)\n",
    "\n",
    "# Compute fraction of replicates that are less than the observed tempertures\n",
    "p_value = np.sum(sample_replicate_data <= np.mean(sample_df['temperature'])) / 500\n",
    "\n",
    "print('P-value: {p_value}'.format(p_value=p_value))\n",
    "if (p_value > 0.05):\n",
    "    print('The true population mean is 98.6 degrees F. Fail to reject null hypothesis')\n",
    "else:\n",
    "    print('The true population mean is not 98.6 degrees F. Reject null hypothesis' )"
   ]
  },
  {
   "cell_type": "markdown",
   "metadata": {},
   "source": [
    "### Z-Test of Sample Data"
   ]
  },
  {
   "cell_type": "code",
   "execution_count": 22,
   "metadata": {},
   "outputs": [
    {
     "name": "stdout",
     "output_type": "stream",
     "text": [
      "Poplation standard deviation: 0.20270668464557332\n",
      "Z-score: 3.9959215031129798\n",
      "P-value: 6.444308614335645e-05\n",
      "The true population mean is not 98.6 degrees F. Reject null hypothesis\n"
     ]
    }
   ],
   "source": [
    "# Population standard deviation\n",
    "sample_pop_std = np.std(sample_df['temperature']) / np.sqrt(len(sample_df['temperature']))\n",
    "print('Poplation standard deviation: {pop_std}'.format(pop_std=sample_pop_std))\n",
    "\n",
    "# Z-score with X as 98.6\n",
    "z_score = (98.6 - np.mean(sample_df['temperature'])) / sample_pop_std\n",
    "print('Z-score: {z_score}'.format(z_score=z_score))\n",
    "\n",
    "# P-value with H0 = pop mean = 98.6 degrees F\n",
    "p_value = norm.sf(abs(z_score))*2\n",
    "print('P-value: {p_value}'.format(p_value=p_value))\n",
    "if (p_value > 0.05):\n",
    "    print('The true population mean is 98.6 degrees F. Fail to reject null hypothesis')\n",
    "else:\n",
    "    print('The true population mean is not 98.6 degrees F. Reject null hypothesis')"
   ]
  },
  {
   "cell_type": "markdown",
   "metadata": {},
   "source": [
    "### Question: Draw a small sample of size 10 from the data and repeat both frequentist tests.\n",
    "- Both tests give the same final result, rejecting the null hypothesis.\n",
    "- The t-test, however, works better with smaller sample sizes.\n",
    "\n",
    "**According to the t-test and z-test with a smaller sample size, we once again reject the null hypothesis.**\n",
    "___________________________________________________________________________________________________________________\n",
    "## Question 5"
   ]
  },
  {
   "cell_type": "code",
   "execution_count": 23,
   "metadata": {},
   "outputs": [
    {
     "name": "stdout",
     "output_type": "stream",
     "text": [
      "[97.045 99.3  ]\n"
     ]
    }
   ],
   "source": [
    "print(np.percentile(df['temperature'],[5,95]))"
   ]
  },
  {
   "cell_type": "code",
   "execution_count": 24,
   "metadata": {},
   "outputs": [
    {
     "data": {
      "text/plain": [
       "(97.38458663070885, 98.19541336929116)"
      ]
     },
     "execution_count": 24,
     "metadata": {},
     "output_type": "execute_result"
    }
   ],
   "source": [
    "# +-2 std from the mean should give us the values that are considered above and below normal.\n",
    "pop_std = np.std(sample_df['temperature']) / np.sqrt(len(sample_df['temperature']))\n",
    "two_std = pop_std * 2\n",
    "abnormal_limits = (np.mean(sample_df['temperature']) - two_std, np.mean(sample_df['temperature']) + two_std)\n",
    "abnormal_limits"
   ]
  },
  {
   "cell_type": "markdown",
   "metadata": {},
   "source": [
    "### Question: At what temperature should we consider someone's temperature to be \"abnormal\"?\n",
    "- 2 Std above or below the mean would be roughly above the 95th percentile and below the 5th percentile of the normal distribution of the data.\n",
    "\n",
    "**The upper and lower bounds respectively are 98.21 F and 97.51 F**\n",
    "___________________________________________________________________________________________________________________\n",
    "## Question 6"
   ]
  },
  {
   "cell_type": "markdown",
   "metadata": {},
   "source": [
    "***Null Hypothesis (H0):*** The male mean temperature and female mean temperature are the same."
   ]
  },
  {
   "cell_type": "code",
   "execution_count": 27,
   "metadata": {},
   "outputs": [
    {
     "name": "stdout",
     "output_type": "stream",
     "text": [
      "Male mean temperature: 98.1046153846154 F, Female mean temperature: 98.39384615384613 F\n"
     ]
    }
   ],
   "source": [
    "male_mean = np.mean(df[df.gender == 'M']['temperature'])\n",
    "female_mean = np.mean(df[df.gender == 'F']['temperature'])\n",
    "\n",
    "print('Male mean temperature: {male_mean} F, Female mean temperature: {female_mean} F'.format(male_mean=male_mean, female_mean=female_mean))"
   ]
  },
  {
   "cell_type": "code",
   "execution_count": 37,
   "metadata": {},
   "outputs": [
    {
     "name": "stdout",
     "output_type": "stream",
     "text": [
      "P-value: 0.991\n",
      "The mean male and female temperatures are the same. Fail to reject null hypothesis\n"
     ]
    }
   ],
   "source": [
    "male_data = df[df.gender == 'M']\n",
    "female_data = df[df.gender == 'F']\n",
    "\n",
    "mean_total = np.mean(df['temperature'])\n",
    "empirical_diff_means = np.mean(male_data['temperature']) - np.mean(female_data['temperature'])\n",
    "\n",
    "male_data_shifted = male_data['temperature'] - np.mean(male_data['temperature']) + mean_total\n",
    "female_data_shifted = female_data['temperature'] - np.mean(female_data['temperature']) + mean_total\n",
    "\n",
    "bs_replicates_m = generate_bs_samples(male_data_shifted, np.mean, size=1000)\n",
    "bs_replicates_f = generate_bs_samples(female_data_shifted, np.mean, size=1000)\n",
    "\n",
    "bs_replicates = bs_replicates_m - bs_replicates_f\n",
    "\n",
    "p_value = np.sum(bs_replicates >= empirical_diff_means) / len(bs_replicates)\n",
    "\n",
    "print('P-value: {p_value}'.format(p_value=p_value))\n",
    "if (p_value > 0.05):\n",
    "    print('The mean male and female temperatures are the same. Fail to reject null hypothesis')\n",
    "else:\n",
    "    print('The mean male and female temperatures are not the same. Reject null hypothesis' )"
   ]
  },
  {
   "cell_type": "markdown",
   "metadata": {},
   "source": [
    "### Question: Is there a significant difference between males and females in normal temperature?\n",
    "- Running a two-sample bootstrap hypothesis test for difference of means with 1000 bootstraped values tells us that the mean of males and females is the same.\n",
    "- The distribution is different in the data but the data trends towards the same mean.\n",
    "\n",
    "****\n",
    "___________________________________________________________________________________________________________________"
   ]
  }
 ],
 "metadata": {
  "kernelspec": {
   "display_name": "Python 3",
   "language": "python",
   "name": "python3"
  },
  "language_info": {
   "codemirror_mode": {
    "name": "ipython",
    "version": 3
   },
   "file_extension": ".py",
   "mimetype": "text/x-python",
   "name": "python",
   "nbconvert_exporter": "python",
   "pygments_lexer": "ipython3",
   "version": "3.7.1"
  }
 },
 "nbformat": 4,
 "nbformat_minor": 1
}
